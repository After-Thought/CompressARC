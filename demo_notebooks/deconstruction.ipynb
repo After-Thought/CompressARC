{
 "cells": [
  {
   "cell_type": "code",
   "execution_count": 2,
   "metadata": {},
   "outputs": [],
   "source": [
    "%load_ext autoreload\n",
    "%autoreload 2\n"
   ]
  },
  {
   "cell_type": "code",
   "execution_count": 3,
   "metadata": {},
   "outputs": [],
   "source": [
    "import sys\n",
    "sys.path.append('/home/chamblin/projects/CompressARC')\n"
   ]
  },
  {
   "cell_type": "code",
   "execution_count": null,
   "metadata": {},
   "outputs": [],
   "source": []
  },
  {
   "cell_type": "markdown",
   "metadata": {},
   "source": [
    "# Understanding CompressARC and ARC-AGI Without Pretraining\n",
    "\n",
    "This notebook aims to break down the concepts presented in the paper **\"ARC-AGI Without Pretraining\"** by Isaac Liao and Albert Gu.\n",
    "\n",
    "## What is ARC-AGI?\n",
    "\n",
    "ARC-AGI (Abstraction and Reasoning Corpus - Artificial General Intelligence) is a dataset designed to measure general intelligence through abstract reasoning tasks. Each puzzle consists of input-output grid pairs, and the goal is to infer the transformation rules and apply them to new inputs.\n",
    "\n",
    "## What is CompressARC?\n",
    "\n",
    "CompressARC is a neural network architecture designed to solve ARC-AGI puzzles without pretraining. It leverages concepts from information theory, compression, and variational autoencoders (VAEs) to learn concise representations of puzzle solutions."
   ]
  },
  {
   "cell_type": "code",
   "execution_count": 4,
   "metadata": {},
   "outputs": [
    {
     "ename": "AttributeError",
     "evalue": "'MultiTensorSystem' object has no attribute 'zeros'",
     "output_type": "error",
     "traceback": [
      "\u001b[0;31m---------------------------------------------------------------------------\u001b[0m",
      "\u001b[0;31mAttributeError\u001b[0m                            Traceback (most recent call last)",
      "Cell \u001b[0;32mIn[4], line 12\u001b[0m\n\u001b[1;32m      7\u001b[0m multitensor_system \u001b[38;5;241m=\u001b[39m multitensor_systems\u001b[38;5;241m.\u001b[39mMultiTensorSystem(\n\u001b[1;32m      8\u001b[0m     n_examples\u001b[38;5;241m=\u001b[39m\u001b[38;5;241m3\u001b[39m, n_colors\u001b[38;5;241m=\u001b[39m\u001b[38;5;241m2\u001b[39m, n_x\u001b[38;5;241m=\u001b[39m\u001b[38;5;241m10\u001b[39m, n_y\u001b[38;5;241m=\u001b[39m\u001b[38;5;241m10\u001b[39m, task\u001b[38;5;241m=\u001b[39m\u001b[38;5;28;01mNone\u001b[39;00m\n\u001b[1;32m      9\u001b[0m )\n\u001b[1;32m     11\u001b[0m \u001b[38;5;66;03m# Create a multitensor\u001b[39;00m\n\u001b[0;32m---> 12\u001b[0m multitensor \u001b[38;5;241m=\u001b[39m \u001b[43mmultitensor_system\u001b[49m\u001b[38;5;241;43m.\u001b[39;49m\u001b[43mzeros\u001b[49m(\u001b[38;5;241m16\u001b[39m)  \u001b[38;5;66;03m# 16 channels as an example\u001b[39;00m\n\u001b[1;32m     13\u001b[0m \u001b[38;5;28mprint\u001b[39m(multitensor)\n",
      "\u001b[0;31mAttributeError\u001b[0m: 'MultiTensorSystem' object has no attribute 'zeros'"
     ]
    }
   ],
   "source": [
    "# Example initialization of multitensor system (simplified)\n",
    "import multitensor_systems\n",
    "import numpy as np\n",
    "\n",
    "# Example dimensions: [examples, colors, directions, height, width, channels]\n",
    "dims = [1, 1, 0, 1, 1]  # Example tensor dimensions\n",
    "multitensor_system = multitensor_systems.MultiTensorSystem(\n",
    "    n_examples=3, n_colors=2, n_x=10, n_y=10, task=None\n",
    ")\n",
    "\n",
    "# Create a multitensor\n",
    "multitensor = multitensor_system.zeros(16)  # 16 channels as an example\n",
    "print(multitensor)"
   ]
  }
 ],
 "metadata": {
  "kernelspec": {
   "display_name": "CompressARC_2",
   "language": "python",
   "name": "python3"
  },
  "language_info": {
   "codemirror_mode": {
    "name": "ipython",
    "version": 3
   },
   "file_extension": ".py",
   "mimetype": "text/x-python",
   "name": "python",
   "nbconvert_exporter": "python",
   "pygments_lexer": "ipython3",
   "version": "3.10.16"
  }
 },
 "nbformat": 4,
 "nbformat_minor": 2
}
